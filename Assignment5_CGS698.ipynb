{
  "nbformat": 4,
  "nbformat_minor": 0,
  "metadata": {
    "colab": {
      "provenance": []
    },
    "kernelspec": {
      "name": "python3",
      "display_name": "Python 3"
    },
    "language_info": {
      "name": "python"
    }
  },
  "cells": [
    {
      "cell_type": "markdown",
      "source": [
        "# Part 1"
      ],
      "metadata": {
        "id": "1IhsXtQT4vyX"
      }
    },
    {
      "cell_type": "code",
      "source": [
        "import numpy as np\n",
        "import matplotlib.pyplot as plt\n",
        "from scipy.stats import beta, binom"
      ],
      "metadata": {
        "id": "FTNSpL_JDUKf"
      },
      "execution_count": 9,
      "outputs": []
    },
    {
      "cell_type": "markdown",
      "source": [
        "1.1"
      ],
      "metadata": {
        "id": "oYrtxwn01-_z"
      }
    },
    {
      "cell_type": "code",
      "execution_count": 10,
      "metadata": {
        "colab": {
          "base_uri": "https://localhost:8080/",
          "height": 518
        },
        "id": "__sIlZ3z1SJz",
        "outputId": "2122f9d9-5e2b-475f-886c-0c96ec8683ef"
      },
      "outputs": [
        {
          "output_type": "stream",
          "name": "stderr",
          "text": [
            "/tmp/ipython-input-10-3696798943.py:12: UserWarning: No artists with labels found to put in legend.  Note that artists whose label start with an underscore are ignored when legend() is called with no argument.\n",
            "  plt.legend()\n"
          ]
        },
        {
          "output_type": "display_data",
          "data": {
            "text/plain": [
              "<Figure size 800x500 with 1 Axes>"
            ],
            "image/png": "[encoded data removed]"
          },
          "metadata": {}
        }
      ],
      "source": [
        "theta_vals = np.linspace(0, 1, 1000)\n",
        "\n",
        "# Posterior for Model 1\n",
        "post1 = beta.pdf(theta_vals, 140, 72)\n",
        "\n",
        "# Posterior for Model 2\n",
        "post2 = beta.pdf(theta_vals, 154, 126)\n",
        "\n",
        "plt.figure(figsize=(8, 5))\n",
        "plt.plot(theta_vals, post1,c='red')\n",
        "plt.plot(theta_vals, post2)\n",
        "plt.legend()\n",
        "plt.tight_layout()\n",
        "plt.show()\n"
      ]
    },
    {
      "cell_type": "markdown",
      "source": [
        "1.2"
      ],
      "metadata": {
        "id": "6be_UA5z2Bx9"
      }
    },
    {
      "cell_type": "code",
      "source": [
        "y = np.array([10, 15, 15, 14, 14, 14, 13, 11, 12, 16])\n",
        "n = 20\n",
        "num_samples = 5000\n",
        "\n",
        "# Model 1\n",
        "theta_samples_1 = beta.rvs(140, 72, size=num_samples)\n",
        "\n",
        "# Model 2\n",
        "theta_samples_2 = beta.rvs(154, 126, size=num_samples)\n",
        "\n",
        "def compute_lppd(y, theta_samples):\n",
        "    log_probs = []\n",
        "    for yi in y:\n",
        "        probs = binom.pmf(yi, n=n, p=theta_samples)\n",
        "        avg_prob = np.mean(probs)\n",
        "        log_probs.append(np.log(avg_prob))\n",
        "    return np.sum(log_probs)\n"
      ],
      "metadata": {
        "id": "QuCB8mig1v4h"
      },
      "execution_count": 11,
      "outputs": []
    },
    {
      "cell_type": "code",
      "source": [
        "lppd_1 = compute_lppd(y, theta_samples_1)\n",
        "lppd_2 = compute_lppd(y, theta_samples_2)\n",
        "\n",
        "print(f\"Model 1 LPPD: {lppd_1:.3f}\")\n",
        "print(f\"Model 2 LPPD: {lppd_2:.3f}\")"
      ],
      "metadata": {
        "colab": {
          "base_uri": "https://localhost:8080/"
        },
        "id": "WVM3rV9M2Nek",
        "outputId": "66a6fc56-cd5f-4b25-c2c4-f95d56192f19"
      },
      "execution_count": 12,
      "outputs": [
        {
          "output_type": "stream",
          "name": "stdout",
          "text": [
            "Model 1 LPPD: -20.364\n",
            "Model 2 LPPD: -25.886\n"
          ]
        }
      ]
    },
    {
      "cell_type": "markdown",
      "source": [
        "1.3"
      ],
      "metadata": {
        "id": "V3SUXX1L2b8c"
      }
    },
    {
      "cell_type": "code",
      "source": [
        "dev_1 = -2 * lppd_1\n",
        "dev_2 = -2 * lppd_2\n",
        "print(f\"Model 1 in-sample deviance: {dev_1:.2f}\")\n",
        "print(f\"Model 2 in-sample deviance: {dev_2:.2f}\")"
      ],
      "metadata": {
        "colab": {
          "base_uri": "https://localhost:8080/"
        },
        "id": "sNHtMCQI2dCi",
        "outputId": "4a41db03-b5c0-41c8-a796-7fd15cc0edb0"
      },
      "execution_count": 13,
      "outputs": [
        {
          "output_type": "stream",
          "name": "stdout",
          "text": [
            "Model 1 in-sample deviance: 40.73\n",
            "Model 2 in-sample deviance: 51.77\n"
          ]
        }
      ]
    },
    {
      "cell_type": "markdown",
      "source": [
        "Because we are using the same data to fit the posterior (p(θ | y)), and evaluate predictive performance on y."
      ],
      "metadata": {
        "id": "UtvISPv22ehL"
      }
    },
    {
      "cell_type": "markdown",
      "source": [
        "1.4"
      ],
      "metadata": {
        "id": "6hOZGeJ22vbX"
      }
    },
    {
      "cell_type": "markdown",
      "source": [
        "Model 1 is a better fit based on in-sample deviance — it's more consistent with the observed data and less surprised overall."
      ],
      "metadata": {
        "id": "J1AB6mVL28Cm"
      }
    },
    {
      "cell_type": "markdown",
      "source": [
        "1.5"
      ],
      "metadata": {
        "id": "_4_ROt_a3DIf"
      }
    },
    {
      "cell_type": "code",
      "source": [
        "def compute_outsample_deviance(y_new, theta_samples):\n",
        "    log_probs = []\n",
        "    for yi in y_new:\n",
        "        # predictive distribution p(y | θ) averaged over posterior samples\n",
        "        probs = binom.pmf(yi, n=20, p=theta_samples)\n",
        "        avg_prob = np.mean(probs)\n",
        "        log_probs.append(np.log(avg_prob))\n",
        "    lppd = np.sum(log_probs)\n",
        "    dev = -2 * lppd\n",
        "    return dev\n",
        "\n",
        "new_y = [5, 6, 10, 8, 9]\n",
        "\n",
        "dev_out_1 = compute_outsample_deviance(new_y, theta_samples_1)\n",
        "dev_out_2 = compute_outsample_deviance(new_y, theta_samples_2)\n",
        "\n",
        "print(f\"Model 1 out-of-sample deviance: {dev_out_1:.2f}\")\n",
        "print(f\"Model 2 out-of-sample deviance: {dev_out_2:.2f}\")"
      ],
      "metadata": {
        "colab": {
          "base_uri": "https://localhost:8080/"
        },
        "id": "IFoW0dCf3MmY",
        "outputId": "1b44693c-67e5-4985-f2ed-9d5e3374b25a"
      },
      "execution_count": 14,
      "outputs": [
        {
          "output_type": "stream",
          "name": "stdout",
          "text": [
            "Model 1 out-of-sample deviance: 50.67\n",
            "Model 2 out-of-sample deviance: 31.56\n"
          ]
        }
      ]
    },
    {
      "cell_type": "markdown",
      "source": [
        "Model 2 has lower out-of-sample deviance becuase its prior bias helped it generalize better to this low-y batch"
      ],
      "metadata": {
        "id": "Bqk0SJww3pt_"
      }
    },
    {
      "cell_type": "markdown",
      "source": [
        "1.6"
      ],
      "metadata": {
        "id": "BVX-bF7a3-Km"
      }
    },
    {
      "cell_type": "code",
      "source": [
        "y_all = np.array([10, 15, 15, 14, 14, 14, 13, 11, 12, 16])\n",
        "n = 20\n",
        "num_samples = 5000\n",
        "\n",
        "def loo_lppd(y_all, a_prior, b_prior):\n",
        "    loo_log_probs = []\n",
        "\n",
        "    for i in range(len(y_all)):\n",
        "        y_train = np.delete(y_all, i)\n",
        "        sum_y_train = np.sum(y_train)\n",
        "\n",
        "        # Posterior\n",
        "        post_a = a_prior + sum_y_train\n",
        "        post_b = b_prior + n * (len(y_train)) - sum_y_train\n",
        "\n",
        "        theta_samples = beta.rvs(post_a, post_b, size=num_samples)\n",
        "\n",
        "        # Predictive prob\n",
        "        y_test = y_all[i]\n",
        "        preds = binom.pmf(y_test, n=n, p=theta_samples)\n",
        "        avg_pred = np.mean(preds)\n",
        "        loo_log_probs.append(np.log(avg_pred))\n",
        "\n",
        "    return np.sum(loo_log_probs)\n",
        "\n",
        "# Model 1\n",
        "loo_lppd_1 = loo_lppd(y_all, 6, 6)\n",
        "dev_loo_1 = -2 * loo_lppd_1\n",
        "\n",
        "# Model 2\n",
        "loo_lppd_2 = loo_lppd(y_all, 20, 60)\n",
        "dev_loo_2 = -2 * loo_lppd_2\n",
        "\n",
        "print(f\"Model 1 LOO deviance: {dev_loo_1:.2f}\")\n",
        "print(f\"Model 2 LOO deviance: {dev_loo_2:.2f}\")"
      ],
      "metadata": {
        "colab": {
          "base_uri": "https://localhost:8080/"
        },
        "id": "-g4G8TaB3_DI",
        "outputId": "dea97fbc-85b8-4367-997c-ed9a51b8a18d"
      },
      "execution_count": 15,
      "outputs": [
        {
          "output_type": "stream",
          "name": "stdout",
          "text": [
            "Model 1 LOO deviance: 42.22\n",
            "Model 2 LOO deviance: 54.44\n"
          ]
        }
      ]
    },
    {
      "cell_type": "markdown",
      "source": [
        "# Part 2"
      ],
      "metadata": {
        "id": "_uVQeM6J4Io0"
      }
    },
    {
      "cell_type": "code",
      "source": [
        "import numpy as np\n",
        "from math import comb\n",
        "from scipy.special import gammaln\n",
        "from scipy.stats import beta"
      ],
      "metadata": {
        "id": "0kh4UNVrDiWn"
      },
      "execution_count": 17,
      "outputs": []
    },
    {
      "cell_type": "markdown",
      "source": [
        "2.1"
      ],
      "metadata": {
        "id": "XOSXue7V4K0H"
      }
    },
    {
      "cell_type": "code",
      "source": [
        "def ml_binomial(k, n, a, b):\n",
        "    log_ml = np.log(comb(n, k)) + \\\n",
        "             gammaln(k + a) + gammaln(n - k + b) - gammaln(n + a + b)\n",
        "    return np.exp(log_ml)\n",
        "k = 2\n",
        "n = 10\n",
        "priors = [\n",
        "    (0.1, 0.4),\n",
        "    (1, 1),\n",
        "    (2, 6),\n",
        "    (6, 2),\n",
        "    (20, 60),\n",
        "    (60, 20)\n",
        "]\n",
        "\n",
        "for a, b in priors:\n",
        "    ml = ml_binomial(k, n, a, b)\n",
        "    print(f\"Beta({a},{b}) Marginal Likelihood: {ml:.5e}\")\n"
      ],
      "metadata": {
        "colab": {
          "base_uri": "https://localhost:8080/"
        },
        "id": "erlj7nN14Mkj",
        "outputId": "1950e8e0-3e2c-49e2-c4df-ad7f23879699"
      },
      "execution_count": 18,
      "outputs": [
        {
          "output_type": "stream",
          "name": "stdout",
          "text": [
            "Beta(0.1,0.4) Marginal Likelihood: 4.73956e-01\n",
            "Beta(1,1) Marginal Likelihood: 9.09091e-02\n",
            "Beta(2,6) Marginal Likelihood: 4.72689e-03\n",
            "Beta(6,2) Marginal Likelihood: 2.31386e-04\n",
            "Beta(20,60) Marginal Likelihood: 5.07940e-21\n",
            "Beta(60,20) Marginal Likelihood: 1.50663e-23\n"
          ]
        }
      ]
    },
    {
      "cell_type": "markdown",
      "source": [
        "2.2"
      ],
      "metadata": {
        "id": "cGcFn3I44lId"
      }
    },
    {
      "cell_type": "code",
      "source": [
        "def monte_carlo_ml(k, n, a, b, num_samples=100_000):\n",
        "    theta_samples = beta.rvs(a, b, size=num_samples)\n",
        "    likelihoods = comb(n, k) * (theta_samples**k) * ((1 - theta_samples)**(n - k))\n",
        "    return np.mean(likelihoods)\n",
        "k, n = 2, 10\n",
        "priors = [\n",
        "    (0.1, 0.4),\n",
        "    (1, 1),\n",
        "    (2, 6),\n",
        "    (6, 2),\n",
        "    (20, 60),\n",
        "    (60, 20)\n",
        "]\n",
        "\n",
        "for a, b in priors:\n",
        "    ml_est = monte_carlo_ml(k, n, a, b)\n",
        "    print(f\"Beta({a},{b}) MC Marginal Likelihood: {ml_est:.5e}\")\n"
      ],
      "metadata": {
        "colab": {
          "base_uri": "https://localhost:8080/"
        },
        "id": "pAE55Iux4l78",
        "outputId": "d0ecc3a1-6dcb-4e68-bfe0-c95f94f3decc"
      },
      "execution_count": 19,
      "outputs": [
        {
          "output_type": "stream",
          "name": "stdout",
          "text": [
            "Beta(0.1,0.4) MC Marginal Likelihood: 3.99884e-02\n",
            "Beta(1,1) MC Marginal Likelihood: 9.04295e-02\n",
            "Beta(2,6) MC Marginal Likelihood: 1.98667e-01\n",
            "Beta(6,2) MC Marginal Likelihood: 9.70755e-03\n",
            "Beta(20,60) MC Marginal Likelihood: 2.69285e-01\n",
            "Beta(60,20) MC Marginal Likelihood: 7.91592e-04\n"
          ]
        }
      ]
    }
  ]
}